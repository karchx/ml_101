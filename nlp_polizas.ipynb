{
  "nbformat": 4,
  "nbformat_minor": 0,
  "metadata": {
    "colab": {
      "provenance": [],
      "mount_file_id": "12cnb1UsDbrebGFvQoRc3uhEn9NEYPdPy",
      "authorship_tag": "ABX9TyM7+SgtUFSni+pPUHTEc68m",
      "include_colab_link": true
    },
    "kernelspec": {
      "name": "python3",
      "display_name": "Python 3"
    },
    "language_info": {
      "name": "python"
    }
  },
  "cells": [
    {
      "cell_type": "markdown",
      "metadata": {
        "id": "view-in-github",
        "colab_type": "text"
      },
      "source": [
        "<a href=\"https://colab.research.google.com/github/karchx/ml_101/blob/main/nlp_polizas.ipynb\" target=\"_parent\"><img src=\"https://colab.research.google.com/assets/colab-badge.svg\" alt=\"Open In Colab\"/></a>"
      ]
    },
    {
      "cell_type": "code",
      "source": [
        "!java --version"
      ],
      "metadata": {
        "id": "u-l__On2e11G"
      },
      "execution_count": null,
      "outputs": []
    },
    {
      "cell_type": "code",
      "source": [
        "!pip install tabula-py"
      ],
      "metadata": {
        "id": "jqa_ot-XYwDz",
        "outputId": "6ec95b41-36a2-4f07-a39a-db0994c3bdf9",
        "colab": {
          "base_uri": "https://localhost:8080/"
        }
      },
      "execution_count": 2,
      "outputs": [
        {
          "output_type": "stream",
          "name": "stdout",
          "text": [
            "Collecting tabula-py\n",
            "  Downloading tabula_py-2.10.0-py3-none-any.whl.metadata (7.6 kB)\n",
            "Requirement already satisfied: pandas>=0.25.3 in /usr/local/lib/python3.11/dist-packages (from tabula-py) (2.2.2)\n",
            "Requirement already satisfied: numpy>1.24.4 in /usr/local/lib/python3.11/dist-packages (from tabula-py) (1.26.4)\n",
            "Requirement already satisfied: distro in /usr/local/lib/python3.11/dist-packages (from tabula-py) (1.9.0)\n",
            "Requirement already satisfied: python-dateutil>=2.8.2 in /usr/local/lib/python3.11/dist-packages (from pandas>=0.25.3->tabula-py) (2.8.2)\n",
            "Requirement already satisfied: pytz>=2020.1 in /usr/local/lib/python3.11/dist-packages (from pandas>=0.25.3->tabula-py) (2024.2)\n",
            "Requirement already satisfied: tzdata>=2022.7 in /usr/local/lib/python3.11/dist-packages (from pandas>=0.25.3->tabula-py) (2025.1)\n",
            "Requirement already satisfied: six>=1.5 in /usr/local/lib/python3.11/dist-packages (from python-dateutil>=2.8.2->pandas>=0.25.3->tabula-py) (1.17.0)\n",
            "Downloading tabula_py-2.10.0-py3-none-any.whl (12.0 MB)\n",
            "\u001b[2K   \u001b[90m━━━━━━━━━━━━━━━━━━━━━━━━━━━━━━━━━━━━━━━━\u001b[0m \u001b[32m12.0/12.0 MB\u001b[0m \u001b[31m19.6 MB/s\u001b[0m eta \u001b[36m0:00:00\u001b[0m\n",
            "\u001b[?25hInstalling collected packages: tabula-py\n",
            "Successfully installed tabula-py-2.10.0\n"
          ]
        }
      ]
    },
    {
      "cell_type": "code",
      "source": [
        "import tabula\n",
        "import numpy\n",
        "import os\n",
        "\n",
        "tabula.environment_info()\n",
        "numpy.__version__\n",
        "\n",
        "os.path.abspath(\"\")\n"
      ],
      "metadata": {
        "id": "v46j67v9Y0Hx",
        "outputId": "7f29e7fa-cf3f-4880-8689-37f47606e44d",
        "colab": {
          "base_uri": "https://localhost:8080/",
          "height": 244
        }
      },
      "execution_count": 2,
      "outputs": [
        {
          "output_type": "stream",
          "name": "stdout",
          "text": [
            "Python version:\n",
            "    3.11.11 (main, Dec  4 2024, 08:55:07) [GCC 11.4.0]\n",
            "Java version:\n",
            "    openjdk version \"11.0.25\" 2024-10-15\n",
            "OpenJDK Runtime Environment (build 11.0.25+9-post-Ubuntu-1ubuntu122.04)\n",
            "OpenJDK 64-Bit Server VM (build 11.0.25+9-post-Ubuntu-1ubuntu122.04, mixed mode, sharing)\n",
            "tabula-py version: 2.10.0\n",
            "platform: Linux-6.1.85+-x86_64-with-glibc2.35\n",
            "uname:\n",
            "    uname_result(system='Linux', node='1071ae06d4a8', release='6.1.85+', version='#1 SMP PREEMPT_DYNAMIC Thu Jun 27 21:05:47 UTC 2024', machine='x86_64')\n",
            "linux_distribution: ('Ubuntu', '22.04', 'jammy')\n",
            "mac_ver: ('', ('', '', ''), '')\n"
          ]
        },
        {
          "output_type": "execute_result",
          "data": {
            "text/plain": [
              "'/content'"
            ],
            "application/vnd.google.colaboratory.intrinsic+json": {
              "type": "string"
            }
          },
          "metadata": {},
          "execution_count": 2
        }
      ]
    },
    {
      "cell_type": "code",
      "source": [
        "!pip freeze | grep openpyxl"
      ],
      "metadata": {
        "id": "lnlcbYoI5sEx",
        "outputId": "a9260249-a362-4266-83b1-2105e36deaf8",
        "colab": {
          "base_uri": "https://localhost:8080/"
        }
      },
      "execution_count": null,
      "outputs": [
        {
          "output_type": "stream",
          "name": "stdout",
          "text": [
            "openpyxl==3.1.5\n"
          ]
        }
      ]
    },
    {
      "cell_type": "code",
      "source": [
        "import tabula\n",
        "import pandas as pd\n",
        "\n",
        "def extract_data(path: str):\n",
        "    dfs = tabula.read_pdf(path, stream=True, pages=0)\n",
        "    df = dfs[0]\n",
        "    df.columns = [f\"column_{i}\" for i in range(len(df.columns))]\n",
        "\n",
        "    columns = []\n",
        "    values = []\n",
        "\n",
        "    for col in df.columns:\n",
        "        for cell in df[col].dropna():\n",
        "            # GET Poliza\n",
        "            if \"Póliza\" in cell:\n",
        "              parts = cell.split(\" \")\n",
        "              if len(parts) == 2:\n",
        "                key, value = parts\n",
        "                columns.append(key.strip())\n",
        "                clean_value = value.replace(\"No.\", \"\").strip()\n",
        "                values.append(clean_value)\n",
        "\n",
        "            if \"Q\" in cell:\n",
        "                parts = cell.split(\"Q \")\n",
        "                if len(parts) == 2:\n",
        "                    key, value = parts\n",
        "                    columns.append(key.strip())\n",
        "                    values.append(value.strip())\n",
        "\n",
        "    # Get Suma asegurada\n",
        "    # TODO: validar que traiga data sino da un IndexError\n",
        "    # df_suma = df[df['column_0'] == \"Suma Asegurada:\"]\n",
        "    # key = df_suma['column_0'].values.astype(str)[0]\n",
        "    # key = key.replace(\":\", \"\").strip()\n",
        "    # value = df_suma['column_1'].values.astype(str)[0]\n",
        "    # value = value.replace(\"Q.\", \"\").strip()\n",
        "    # columns.append(key.strip())\n",
        "    # values.append(value.strip())\n",
        "\n",
        "    df_final = pd.DataFrame(columns=columns, data=[values])\n",
        "\n",
        "    print(df_final.to_json(orient=\"records\", force_ascii=False))"
      ],
      "metadata": {
        "id": "-X6vR9HLFjEO"
      },
      "execution_count": 3,
      "outputs": []
    },
    {
      "cell_type": "code",
      "source": [
        "import tabula\n",
        "import pandas as pd\n",
        "import re\n",
        "\n",
        "keywords = [\"PRIMA\", \"IVA\", \"GASTOS\", \"TOTAL\", \"SUMA\", \"Gtos\"]\n",
        "\n",
        "def extract_data(path: str):\n",
        "    dfs = tabula.read_pdf(path, stream=True, multiple_tables=True)\n",
        "    results = []\n",
        "    clean_blank_space = re.compile(r'\\s+')\n",
        "\n",
        "    for df in dfs:\n",
        "      df = df.astype(str)\n",
        "\n",
        "      for index, row in df.iterrows():\n",
        "        row_text = \" \".join(row)\n",
        "        row_text = row_text.replace(\"nan\", \"\")\n",
        "\n",
        "        if any(keyword in row_text.upper() for keyword in keywords):\n",
        "          parts = row_text.split()\n",
        "\n",
        "          for i, part in enumerate(parts):\n",
        "            if part.upper() in keywords:\n",
        "              if i + 1 < len(parts):\n",
        "                value_re = [ s for s in parts if re.match(r'\\d', s)]\n",
        "                #print(f\"{part} {value_re}\")\n",
        "                if len(value_re) > 0:\n",
        "                  value = value_re[0]\n",
        "                results.append((part, value))\n",
        "\n",
        "    df = pd.DataFrame(results, columns=[\"Rubro\", \"Valor\"])\n",
        "    #print(df)\n"
      ],
      "metadata": {
        "id": "-ekBOdwImixN"
      },
      "execution_count": 111,
      "outputs": []
    },
    {
      "cell_type": "code",
      "source": [
        "!pip install PyMuPDF camelot-py tabula-py"
      ],
      "metadata": {
        "id": "QLQ5IIYaBjo8"
      },
      "execution_count": null,
      "outputs": []
    },
    {
      "cell_type": "code",
      "source": [
        "import fitz  # PyMuPDF\n",
        "import camelot\n",
        "\n",
        "\n",
        "def extract_tables_from_pdf(pdf_path):\n",
        "    tables = camelot.read_pdf(pdf_path, flavor='stream', edge_tol=500)\n",
        "    return tables\n",
        "\n",
        "\n",
        "def extract_data(pdf_path: str):\n",
        "    tables = extract_tables_from_pdf(pdf_path)\n",
        "    plt = camelot.plot(tables[0], kind='contour')\n",
        "    plt.show()\n",
        "    for table in tables:\n",
        "        df = table.df\n",
        "        print(df.iloc[0, 0])\n",
        "        if \"Suma\" in df.iloc[0, 0]:\n",
        "            print(df[0])"
      ],
      "metadata": {
        "id": "SwiRnIihAKY4"
      },
      "execution_count": 187,
      "outputs": []
    },
    {
      "cell_type": "code",
      "source": [
        "pdf_path = \"./test2.pdf\"\n",
        "extract_data(pdf_path)"
      ],
      "metadata": {
        "id": "lYRXawpmFK-o",
        "outputId": "35db853f-2249-4ddd-868f-ae0d2b9abe90",
        "colab": {
          "base_uri": "https://localhost:8080/",
          "height": 430
        }
      },
      "execution_count": 186,
      "outputs": [
        {
          "output_type": "display_data",
          "data": {
            "text/plain": [
              "<Figure size 640x480 with 1 Axes>"
            ],
            "image/png": "[encoded data removed]"
          },
          "metadata": {}
        }
      ]
    },
    {
      "cell_type": "code",
      "source": [
        "!pip install pytesseract\n",
        "#https://gist.github.com/jasalt/f843566fc3fd6cac5a8af07930387181"
      ],
      "metadata": {
        "id": "33llDG7GHn8x",
        "outputId": "4a6d80d2-ce5c-4c81-ee7e-9ef55a1455f7",
        "colab": {
          "base_uri": "https://localhost:8080/"
        }
      },
      "execution_count": 179,
      "outputs": [
        {
          "output_type": "stream",
          "name": "stdout",
          "text": [
            "Requirement already satisfied: pytesseract in /usr/local/lib/python3.11/dist-packages (0.3.13)\n",
            "Requirement already satisfied: packaging>=21.3 in /usr/local/lib/python3.11/dist-packages (from pytesseract) (24.2)\n",
            "Requirement already satisfied: Pillow>=8.0.0 in /usr/local/lib/python3.11/dist-packages (from pytesseract) (11.1.0)\n"
          ]
        }
      ]
    },
    {
      "cell_type": "code",
      "execution_count": null,
      "metadata": {
        "id": "ii_STasceiTX"
      },
      "outputs": [],
      "source": [
        "import re"
      ]
    },
    {
      "cell_type": "code",
      "source": [
        "def show_image(item, title=\"\"):\n",
        "    \"\"\"Display a pixmap.\n",
        "\n",
        "    Just to display Pixmap image of \"item\" - ignore the man behind the curtain.\n",
        "\n",
        "    Args:\n",
        "        item: any PyMuPDF object having a \"get_pixmap\" method.\n",
        "        title: a string to be used as image title\n",
        "\n",
        "    Generates an RGB Pixmap from item using a constant DPI and using matplotlib\n",
        "    to show it inline of the notebook.\n",
        "    \"\"\"\n",
        "    DPI = 150  # use this resolution\n",
        "    import numpy as np\n",
        "    import matplotlib.pyplot as plt\n",
        "\n",
        "    # %matplotlib inline\n",
        "    pix = item.get_pixmap(dpi=DPI)\n",
        "    img = np.ndarray([pix.h, pix.w, 3], dtype=np.uint8, buffer=pix.samples_mv)\n",
        "    plt.figure(dpi=DPI)  # set the figure's DPI\n",
        "    plt.title(title)  # set title of image\n",
        "    _ = plt.imshow(img, extent=(0, pix.w * 72 / DPI, pix.h * 72 / DPI, 0))"
      ],
      "metadata": {
        "id": "cQpp74d_ud7h"
      },
      "execution_count": null,
      "outputs": []
    },
    {
      "cell_type": "code",
      "source": [
        "import fitz  # import PyMuPDF\n",
        "if not hasattr(fitz.Page, \"find_tables\"):\n",
        "    raise RuntimeError(\"This PyMuPDF version does not support the table feature\")"
      ],
      "metadata": {
        "id": "uHcrvUWRuo8-"
      },
      "execution_count": null,
      "outputs": []
    },
    {
      "cell_type": "code",
      "source": [
        "def extract_text_from_pdf(file_path: str):\n",
        "    doc = fitz.open(file_path)\n",
        "    text = \"\"\n",
        "    for page in doc:\n",
        "        text += page.get_text() + \"\\n\"\n",
        "    return text\n"
      ],
      "metadata": {
        "id": "vOhlboZRev8o"
      },
      "execution_count": null,
      "outputs": []
    },
    {
      "cell_type": "code",
      "source": [
        "# TESTING\n",
        "\n",
        "doc = fitz.open(\"./test_extract.pdf\")\n",
        "page = doc[26]\n",
        "\n",
        "text = page.get_text(\"text\")\n",
        "pattern = r\"([\\w\\s\\.]+)Q\\s+([\\d,]+\\.\\d{2})\"\n",
        "\n",
        "matches = re.findall(pattern, text)\n",
        "\n",
        "table_data = {item[0].strip(): float(item[1].replace(\",\", \"\")) for item in matches}\n",
        "for key, value in table_data.items():\n",
        "    print(f\"{key}: Q {value}\")\n",
        "\n",
        "# tabs = page.find_tables()  # detect the tables\n",
        "# for i,tab in enumerate(tabs):  # iterate over all tables\n",
        "#     for cell in tab.header.cells:\n",
        "#         print(cell)\n",
        "#         page.draw_rect(cell,color=fitz.pdfcolor[\"red\"],width=0.3)\n",
        "#     page.draw_rect(tab.bbox,color=fitz.pdfcolor[\"green\"])\n",
        "#     print(f\"Table {i} column names: {tab.header.names}, external: {tab.header.external}\")\n",
        "#\n",
        "# show_image(page, f\"Table & Header BBoxes\")"
      ],
      "metadata": {
        "colab": {
          "base_uri": "https://localhost:8080/"
        },
        "id": "0lCycRFqtoJp",
        "outputId": "9e1bbd32-aa85-4cf5-899d-550104bdf13d"
      },
      "execution_count": null,
      "outputs": [
        {
          "output_type": "stream",
          "name": "stdout",
          "text": [
            "1038\n",
            "Requerimiento Serie E      No. 979476310\n",
            "Total a Pagar: Q 189438.4\n"
          ]
        }
      ]
    },
    {
      "cell_type": "code",
      "source": [
        "tab = tabs[0]\n",
        "df = tab.to_pandas()\n",
        "df"
      ],
      "metadata": {
        "id": "5xuXWEmZvtZ-",
        "outputId": "776b6ebc-e1cb-4123-df69-801520a1aa42",
        "colab": {
          "base_uri": "https://localhost:8080/",
          "height": 225
        }
      },
      "execution_count": null,
      "outputs": [
        {
          "output_type": "execute_result",
          "data": {
            "text/plain": [
              "  No.      Documento Pago    Monto Col3\n",
              "0                Efectivo              \n",
              "1           Chqs. Propios              \n",
              "2      Chqs. Otros Bancos              \n",
              "3                   Total  189,438  .40"
            ],
            "text/html": [
              "\n",
              "  <div id=\"df-a118b362-d041-4e4c-9166-fb2f4a05bd67\" class=\"colab-df-container\">\n",
              "    <div>\n",
              "<style scoped>\n",
              "    .dataframe tbody tr th:only-of-type {\n",
              "        vertical-align: middle;\n",
              "    }\n",
              "\n",
              "    .dataframe tbody tr th {\n",
              "        vertical-align: top;\n",
              "    }\n",
              "\n",
              "    .dataframe thead th {\n",
              "        text-align: right;\n",
              "    }\n",
              "</style>\n",
              "<table border=\"1\" class=\"dataframe\">\n",
              "  <thead>\n",
              "    <tr style=\"text-align: right;\">\n",
              "      <th></th>\n",
              "      <th>No.</th>\n",
              "      <th>Documento Pago</th>\n",
              "      <th>Monto</th>\n",
              "      <th>Col3</th>\n",
              "    </tr>\n",
              "  </thead>\n",
              "  <tbody>\n",
              "    <tr>\n",
              "      <th>0</th>\n",
              "      <td></td>\n",
              "      <td>Efectivo</td>\n",
              "      <td></td>\n",
              "      <td></td>\n",
              "    </tr>\n",
              "    <tr>\n",
              "      <th>1</th>\n",
              "      <td></td>\n",
              "      <td>Chqs. Propios</td>\n",
              "      <td></td>\n",
              "      <td></td>\n",
              "    </tr>\n",
              "    <tr>\n",
              "      <th>2</th>\n",
              "      <td></td>\n",
              "      <td>Chqs. Otros Bancos</td>\n",
              "      <td></td>\n",
              "      <td></td>\n",
              "    </tr>\n",
              "    <tr>\n",
              "      <th>3</th>\n",
              "      <td></td>\n",
              "      <td>Total</td>\n",
              "      <td>189,438</td>\n",
              "      <td>.40</td>\n",
              "    </tr>\n",
              "  </tbody>\n",
              "</table>\n",
              "</div>\n",
              "    <div class=\"colab-df-buttons\">\n",
              "\n",
              "  <div class=\"colab-df-container\">\n",
              "    <button class=\"colab-df-convert\" onclick=\"convertToInteractive('df-a118b362-d041-4e4c-9166-fb2f4a05bd67')\"\n",
              "            title=\"Convert this dataframe to an interactive table.\"\n",
              "            style=\"display:none;\">\n",
              "\n",
              "  <svg xmlns=\"http://www.w3.org/2000/svg\" height=\"24px\" viewBox=\"0 -960 960 960\">\n",
              "    <path d=\"M120-120v-720h720v720H120Zm60-500h600v-160H180v160Zm220 220h160v-160H400v160Zm0 220h160v-160H400v160ZM180-400h160v-160H180v160Zm440 0h160v-160H620v160ZM180-180h160v-160H180v160Zm440 0h160v-160H620v160Z\"/>\n",
              "  </svg>\n",
              "    </button>\n",
              "\n",
              "  <style>\n",
              "    .colab-df-container {\n",
              "      display:flex;\n",
              "      gap: 12px;\n",
              "    }\n",
              "\n",
              "    .colab-df-convert {\n",
              "      background-color: #E8F0FE;\n",
              "      border: none;\n",
              "      border-radius: 50%;\n",
              "      cursor: pointer;\n",
              "      display: none;\n",
              "      fill: #1967D2;\n",
              "      height: 32px;\n",
              "      padding: 0 0 0 0;\n",
              "      width: 32px;\n",
              "    }\n",
              "\n",
              "    .colab-df-convert:hover {\n",
              "      background-color: #E2EBFA;\n",
              "      box-shadow: 0px 1px 2px rgba(60, 64, 67, 0.3), 0px 1px 3px 1px rgba(60, 64, 67, 0.15);\n",
              "      fill: #174EA6;\n",
              "    }\n",
              "\n",
              "    .colab-df-buttons div {\n",
              "      margin-bottom: 4px;\n",
              "    }\n",
              "\n",
              "    [theme=dark] .colab-df-convert {\n",
              "      background-color: #3B4455;\n",
              "      fill: #D2E3FC;\n",
              "    }\n",
              "\n",
              "    [theme=dark] .colab-df-convert:hover {\n",
              "      background-color: #434B5C;\n",
              "      box-shadow: 0px 1px 3px 1px rgba(0, 0, 0, 0.15);\n",
              "      filter: drop-shadow(0px 1px 2px rgba(0, 0, 0, 0.3));\n",
              "      fill: #FFFFFF;\n",
              "    }\n",
              "  </style>\n",
              "\n",
              "    <script>\n",
              "      const buttonEl =\n",
              "        document.querySelector('#df-a118b362-d041-4e4c-9166-fb2f4a05bd67 button.colab-df-convert');\n",
              "      buttonEl.style.display =\n",
              "        google.colab.kernel.accessAllowed ? 'block' : 'none';\n",
              "\n",
              "      async function convertToInteractive(key) {\n",
              "        const element = document.querySelector('#df-a118b362-d041-4e4c-9166-fb2f4a05bd67');\n",
              "        const dataTable =\n",
              "          await google.colab.kernel.invokeFunction('convertToInteractive',\n",
              "                                                    [key], {});\n",
              "        if (!dataTable) return;\n",
              "\n",
              "        const docLinkHtml = 'Like what you see? Visit the ' +\n",
              "          '<a target=\"_blank\" href=https://colab.research.google.com/notebooks/data_table.ipynb>data table notebook</a>'\n",
              "          + ' to learn more about interactive tables.';\n",
              "        element.innerHTML = '';\n",
              "        dataTable['output_type'] = 'display_data';\n",
              "        await google.colab.output.renderOutput(dataTable, element);\n",
              "        const docLink = document.createElement('div');\n",
              "        docLink.innerHTML = docLinkHtml;\n",
              "        element.appendChild(docLink);\n",
              "      }\n",
              "    </script>\n",
              "  </div>\n",
              "\n",
              "\n",
              "<div id=\"df-e3cb80e2-670f-4a79-88af-e14ded4daf64\">\n",
              "  <button class=\"colab-df-quickchart\" onclick=\"quickchart('df-e3cb80e2-670f-4a79-88af-e14ded4daf64')\"\n",
              "            title=\"Suggest charts\"\n",
              "            style=\"display:none;\">\n",
              "\n",
              "<svg xmlns=\"http://www.w3.org/2000/svg\" height=\"24px\"viewBox=\"0 0 24 24\"\n",
              "     width=\"24px\">\n",
              "    <g>\n",
              "        <path d=\"M19 3H5c-1.1 0-2 .9-2 2v14c0 1.1.9 2 2 2h14c1.1 0 2-.9 2-2V5c0-1.1-.9-2-2-2zM9 17H7v-7h2v7zm4 0h-2V7h2v10zm4 0h-2v-4h2v4z\"/>\n",
              "    </g>\n",
              "</svg>\n",
              "  </button>\n",
              "\n",
              "<style>\n",
              "  .colab-df-quickchart {\n",
              "      --bg-color: #E8F0FE;\n",
              "      --fill-color: #1967D2;\n",
              "      --hover-bg-color: #E2EBFA;\n",
              "      --hover-fill-color: #174EA6;\n",
              "      --disabled-fill-color: #AAA;\n",
              "      --disabled-bg-color: #DDD;\n",
              "  }\n",
              "\n",
              "  [theme=dark] .colab-df-quickchart {\n",
              "      --bg-color: #3B4455;\n",
              "      --fill-color: #D2E3FC;\n",
              "      --hover-bg-color: #434B5C;\n",
              "      --hover-fill-color: #FFFFFF;\n",
              "      --disabled-bg-color: #3B4455;\n",
              "      --disabled-fill-color: #666;\n",
              "  }\n",
              "\n",
              "  .colab-df-quickchart {\n",
              "    background-color: var(--bg-color);\n",
              "    border: none;\n",
              "    border-radius: 50%;\n",
              "    cursor: pointer;\n",
              "    display: none;\n",
              "    fill: var(--fill-color);\n",
              "    height: 32px;\n",
              "    padding: 0;\n",
              "    width: 32px;\n",
              "  }\n",
              "\n",
              "  .colab-df-quickchart:hover {\n",
              "    background-color: var(--hover-bg-color);\n",
              "    box-shadow: 0 1px 2px rgba(60, 64, 67, 0.3), 0 1px 3px 1px rgba(60, 64, 67, 0.15);\n",
              "    fill: var(--button-hover-fill-color);\n",
              "  }\n",
              "\n",
              "  .colab-df-quickchart-complete:disabled,\n",
              "  .colab-df-quickchart-complete:disabled:hover {\n",
              "    background-color: var(--disabled-bg-color);\n",
              "    fill: var(--disabled-fill-color);\n",
              "    box-shadow: none;\n",
              "  }\n",
              "\n",
              "  .colab-df-spinner {\n",
              "    border: 2px solid var(--fill-color);\n",
              "    border-color: transparent;\n",
              "    border-bottom-color: var(--fill-color);\n",
              "    animation:\n",
              "      spin 1s steps(1) infinite;\n",
              "  }\n",
              "\n",
              "  @keyframes spin {\n",
              "    0% {\n",
              "      border-color: transparent;\n",
              "      border-bottom-color: var(--fill-color);\n",
              "      border-left-color: var(--fill-color);\n",
              "    }\n",
              "    20% {\n",
              "      border-color: transparent;\n",
              "      border-left-color: var(--fill-color);\n",
              "      border-top-color: var(--fill-color);\n",
              "    }\n",
              "    30% {\n",
              "      border-color: transparent;\n",
              "      border-left-color: var(--fill-color);\n",
              "      border-top-color: var(--fill-color);\n",
              "      border-right-color: var(--fill-color);\n",
              "    }\n",
              "    40% {\n",
              "      border-color: transparent;\n",
              "      border-right-color: var(--fill-color);\n",
              "      border-top-color: var(--fill-color);\n",
              "    }\n",
              "    60% {\n",
              "      border-color: transparent;\n",
              "      border-right-color: var(--fill-color);\n",
              "    }\n",
              "    80% {\n",
              "      border-color: transparent;\n",
              "      border-right-color: var(--fill-color);\n",
              "      border-bottom-color: var(--fill-color);\n",
              "    }\n",
              "    90% {\n",
              "      border-color: transparent;\n",
              "      border-bottom-color: var(--fill-color);\n",
              "    }\n",
              "  }\n",
              "</style>\n",
              "\n",
              "  <script>\n",
              "    async function quickchart(key) {\n",
              "      const quickchartButtonEl =\n",
              "        document.querySelector('#' + key + ' button');\n",
              "      quickchartButtonEl.disabled = true;  // To prevent multiple clicks.\n",
              "      quickchartButtonEl.classList.add('colab-df-spinner');\n",
              "      try {\n",
              "        const charts = await google.colab.kernel.invokeFunction(\n",
              "            'suggestCharts', [key], {});\n",
              "      } catch (error) {\n",
              "        console.error('Error during call to suggestCharts:', error);\n",
              "      }\n",
              "      quickchartButtonEl.classList.remove('colab-df-spinner');\n",
              "      quickchartButtonEl.classList.add('colab-df-quickchart-complete');\n",
              "    }\n",
              "    (() => {\n",
              "      let quickchartButtonEl =\n",
              "        document.querySelector('#df-e3cb80e2-670f-4a79-88af-e14ded4daf64 button');\n",
              "      quickchartButtonEl.style.display =\n",
              "        google.colab.kernel.accessAllowed ? 'block' : 'none';\n",
              "    })();\n",
              "  </script>\n",
              "</div>\n",
              "\n",
              "  <div id=\"id_0f2ef731-d715-4f95-a648-479637d12777\">\n",
              "    <style>\n",
              "      .colab-df-generate {\n",
              "        background-color: #E8F0FE;\n",
              "        border: none;\n",
              "        border-radius: 50%;\n",
              "        cursor: pointer;\n",
              "        display: none;\n",
              "        fill: #1967D2;\n",
              "        height: 32px;\n",
              "        padding: 0 0 0 0;\n",
              "        width: 32px;\n",
              "      }\n",
              "\n",
              "      .colab-df-generate:hover {\n",
              "        background-color: #E2EBFA;\n",
              "        box-shadow: 0px 1px 2px rgba(60, 64, 67, 0.3), 0px 1px 3px 1px rgba(60, 64, 67, 0.15);\n",
              "        fill: #174EA6;\n",
              "      }\n",
              "\n",
              "      [theme=dark] .colab-df-generate {\n",
              "        background-color: #3B4455;\n",
              "        fill: #D2E3FC;\n",
              "      }\n",
              "\n",
              "      [theme=dark] .colab-df-generate:hover {\n",
              "        background-color: #434B5C;\n",
              "        box-shadow: 0px 1px 3px 1px rgba(0, 0, 0, 0.15);\n",
              "        filter: drop-shadow(0px 1px 2px rgba(0, 0, 0, 0.3));\n",
              "        fill: #FFFFFF;\n",
              "      }\n",
              "    </style>\n",
              "    <button class=\"colab-df-generate\" onclick=\"generateWithVariable('df')\"\n",
              "            title=\"Generate code using this dataframe.\"\n",
              "            style=\"display:none;\">\n",
              "\n",
              "  <svg xmlns=\"http://www.w3.org/2000/svg\" height=\"24px\"viewBox=\"0 0 24 24\"\n",
              "       width=\"24px\">\n",
              "    <path d=\"M7,19H8.4L18.45,9,17,7.55,7,17.6ZM5,21V16.75L18.45,3.32a2,2,0,0,1,2.83,0l1.4,1.43a1.91,1.91,0,0,1,.58,1.4,1.91,1.91,0,0,1-.58,1.4L9.25,21ZM18.45,9,17,7.55Zm-12,3A5.31,5.31,0,0,0,4.9,8.1,5.31,5.31,0,0,0,1,6.5,5.31,5.31,0,0,0,4.9,4.9,5.31,5.31,0,0,0,6.5,1,5.31,5.31,0,0,0,8.1,4.9,5.31,5.31,0,0,0,12,6.5,5.46,5.46,0,0,0,6.5,12Z\"/>\n",
              "  </svg>\n",
              "    </button>\n",
              "    <script>\n",
              "      (() => {\n",
              "      const buttonEl =\n",
              "        document.querySelector('#id_0f2ef731-d715-4f95-a648-479637d12777 button.colab-df-generate');\n",
              "      buttonEl.style.display =\n",
              "        google.colab.kernel.accessAllowed ? 'block' : 'none';\n",
              "\n",
              "      buttonEl.onclick = () => {\n",
              "        google.colab.notebook.generateWithVariable('df');\n",
              "      }\n",
              "      })();\n",
              "    </script>\n",
              "  </div>\n",
              "\n",
              "    </div>\n",
              "  </div>\n"
            ],
            "application/vnd.google.colaboratory.intrinsic+json": {
              "type": "dataframe",
              "variable_name": "df",
              "summary": "{\n  \"name\": \"df\",\n  \"rows\": 4,\n  \"fields\": [\n    {\n      \"column\": \"No.\",\n      \"properties\": {\n        \"dtype\": \"object\",\n        \"num_unique_values\": 1,\n        \"samples\": [\n          \"\"\n        ],\n        \"semantic_type\": \"\",\n        \"description\": \"\"\n      }\n    },\n    {\n      \"column\": \"Documento Pago\",\n      \"properties\": {\n        \"dtype\": \"string\",\n        \"num_unique_values\": 4,\n        \"samples\": [\n          \"Chqs. Propios\"\n        ],\n        \"semantic_type\": \"\",\n        \"description\": \"\"\n      }\n    },\n    {\n      \"column\": \"Monto\",\n      \"properties\": {\n        \"dtype\": \"string\",\n        \"num_unique_values\": 2,\n        \"samples\": [\n          \"189,438\"\n        ],\n        \"semantic_type\": \"\",\n        \"description\": \"\"\n      }\n    },\n    {\n      \"column\": \"Col3\",\n      \"properties\": {\n        \"dtype\": \"string\",\n        \"num_unique_values\": 2,\n        \"samples\": [\n          \".40\"\n        ],\n        \"semantic_type\": \"\",\n        \"description\": \"\"\n      }\n    }\n  ]\n}"
            }
          },
          "metadata": {},
          "execution_count": 43
        }
      ]
    },
    {
      "cell_type": "code",
      "source": [
        "data = {}\n",
        "text = extract_text_from_pdf(\"./test_extract.pdf\")\n",
        "lines = text.split('\\n')\n",
        "\n",
        "for i, line in enumerate(lines):\n",
        "  if \"PRIMA\" in line:\n",
        "    data[\"Prima\"] = lines[i + 1].split()[-1].replace(\",\", \"\")\n",
        "#print(text)\n",
        "print(lines)"
      ],
      "metadata": {
        "id": "rYATuXlrfHki"
      },
      "execution_count": null,
      "outputs": []
    },
    {
      "cell_type": "code",
      "source": [],
      "metadata": {
        "id": "myXXbKfldU1m"
      },
      "execution_count": null,
      "outputs": []
    }
  ]
}